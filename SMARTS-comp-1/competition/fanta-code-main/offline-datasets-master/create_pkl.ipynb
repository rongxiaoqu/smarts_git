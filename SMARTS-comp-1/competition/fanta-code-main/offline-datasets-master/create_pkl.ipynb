{
 "cells": [
  {
   "cell_type": "code",
   "execution_count": 5,
   "metadata": {},
   "outputs": [
    {
     "name": "stdout",
     "output_type": "stream",
     "text": [
      "CSV file has been successfully converted to a PKL file.\n"
     ]
    }
   ],
   "source": [
    "import pandas as pd\n",
    "\n",
    "# Read the CSV file\n",
    "csv_file = 'waymo_candid_list.csv'\n",
    "dataframe = pd.read_csv(csv_file)\n",
    "\n",
    "# Convert the DataFrame to a PKL file\n",
    "pkl_file = 'waymo_candid_list.pkl'\n",
    "dataframe.to_pickle(pkl_file)\n",
    "\n",
    "print('CSV file has been successfully converted to a PKL file.')\n"
   ]
  }
 ],
 "metadata": {
  "kernelspec": {
   "display_name": "base",
   "language": "python",
   "name": "python3"
  },
  "language_info": {
   "codemirror_mode": {
    "name": "ipython",
    "version": 3
   },
   "file_extension": ".py",
   "mimetype": "text/x-python",
   "name": "python",
   "nbconvert_exporter": "python",
   "pygments_lexer": "ipython3",
   "version": "3.9.16"
  },
  "orig_nbformat": 4
 },
 "nbformat": 4,
 "nbformat_minor": 2
}
