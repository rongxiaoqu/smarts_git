{
 "cells": [
  {
   "cell_type": "code",
   "execution_count": 5,
   "metadata": {},
   "outputs": [
    {
     "name": "stdout",
     "output_type": "stream",
     "text": [
      "CSV file has been successfully converted to a PKL file.\n"
     ]
    }
   ],
   "source": [
    "import pandas as pd\n",
    "\n",
    "# Read the CSV file\n",
    "csv_file = 'waymo_candid_list.csv'\n",
    "dataframe = pd.read_csv(csv_file)\n",
    "\n",
    "# Convert the DataFrame to a PKL file\n",
    "pkl_file = 'waymo_candid_list.pkl'\n",
    "dataframe.to_pickle(pkl_file)\n",
    "\n",
    "print('CSV file has been successfully converted to a PKL file.')\n"
   ]
  },
  {
   "cell_type": "code",
   "execution_count": 6,
   "metadata": {},
   "outputs": [
    {
     "name": "stdout",
     "output_type": "stream",
     "text": [
      "        map     period  vehicle ID  start time  duration         tags\n",
      "0     us101  0820-0835           9         3.0        20  lane-change\n",
      "1     us101  0750-0805           4         5.4        20  lane-change\n",
      "2     us101  0750-0805          37         6.0        20  lane-change\n",
      "3     us101  0750-0805           6         6.7        20  lane-change\n",
      "4     us101  0750-0805           4         8.2        20  lane-change\n",
      "...     ...        ...         ...         ...       ...          ...\n",
      "2734  us101  0805-0820        2609       959.6        20  lane-change\n",
      "2735  us101  0820-0835        1934       961.9        20  lane-change\n",
      "2736  us101  0820-0835        1927       962.2        20  lane-change\n",
      "2737  us101  0820-0835        1944       971.7        20  lane-change\n",
      "2738  us101  0820-0835        1937       973.4        20  lane-change\n",
      "\n",
      "[2739 rows x 6 columns]\n"
     ]
    }
   ],
   "source": [
    "import pickle\n",
    "\n",
    "\n",
    "filename = \"us101_candid_list.pkl\"\n",
    "with open(filename, 'rb') as f:\n",
    "    contents = pickle.load(f)\n",
    "\n",
    "print(contents)\n"
   ]
  }
 ],
 "metadata": {
  "kernelspec": {
   "display_name": "base",
   "language": "python",
   "name": "python3"
  },
  "language_info": {
   "codemirror_mode": {
    "name": "ipython",
    "version": 3
   },
   "file_extension": ".py",
   "mimetype": "text/x-python",
   "name": "python",
   "nbconvert_exporter": "python",
   "pygments_lexer": "ipython3",
   "version": "3.9.16"
  },
  "orig_nbformat": 4
 },
 "nbformat": 4,
 "nbformat_minor": 2
}
