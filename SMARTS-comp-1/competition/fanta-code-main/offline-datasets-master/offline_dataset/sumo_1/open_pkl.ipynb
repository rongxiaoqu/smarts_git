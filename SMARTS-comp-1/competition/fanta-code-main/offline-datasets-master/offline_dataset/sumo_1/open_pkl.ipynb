{
 "cells": [
  {
   "cell_type": "code",
   "execution_count": 2,
   "metadata": {},
   "outputs": [],
   "source": [
    "import pickle\n",
    "\n"
   ]
  },
  {
   "cell_type": "code",
   "execution_count": 3,
   "metadata": {},
   "outputs": [
    {
     "name": "stdout",
     "output_type": "stream",
     "text": [
      "using ctypes\n"
     ]
    },
    {
     "ename": "TypeError",
     "evalue": "argument of type 'NoneType' is not iterable",
     "output_type": "error",
     "traceback": [
      "\u001b[1;31m---------------------------------------------------------------------------\u001b[0m",
      "\u001b[1;31mTypeError\u001b[0m                                 Traceback (most recent call last)",
      "Cell \u001b[1;32mIn[3], line 3\u001b[0m\n\u001b[0;32m      1\u001b[0m filename \u001b[39m=\u001b[39m \u001b[39m\"\u001b[39m\u001b[39mAgent-history-vehicle-1.pkl\u001b[39m\u001b[39m\"\u001b[39m\n\u001b[0;32m      2\u001b[0m \u001b[39mwith\u001b[39;00m \u001b[39mopen\u001b[39m(filename, \u001b[39m'\u001b[39m\u001b[39mrb\u001b[39m\u001b[39m'\u001b[39m) \u001b[39mas\u001b[39;00m f:\n\u001b[1;32m----> 3\u001b[0m     contents \u001b[39m=\u001b[39m pickle\u001b[39m.\u001b[39;49mload(f)\n\u001b[0;32m      5\u001b[0m \u001b[39mprint\u001b[39m(contents)\n",
      "File \u001b[1;32me:\\Anaconda\\lib\\site-packages\\smarts\\core\\sensors.py:31\u001b[0m\n\u001b[0;32m     27\u001b[0m \u001b[39mfrom\u001b[39;00m \u001b[39mtyping\u001b[39;00m \u001b[39mimport\u001b[39;00m Dict, Iterable, List, Optional, Set, Tuple\n\u001b[0;32m     29\u001b[0m \u001b[39mimport\u001b[39;00m \u001b[39mnumpy\u001b[39;00m \u001b[39mas\u001b[39;00m \u001b[39mnp\u001b[39;00m\n\u001b[1;32m---> 31\u001b[0m \u001b[39mfrom\u001b[39;00m \u001b[39msmarts\u001b[39;00m\u001b[39m.\u001b[39;00m\u001b[39mcore\u001b[39;00m\u001b[39m.\u001b[39;00m\u001b[39magent_interface\u001b[39;00m \u001b[39mimport\u001b[39;00m AgentsAliveDoneCriteria\n\u001b[0;32m     32\u001b[0m \u001b[39mfrom\u001b[39;00m \u001b[39msmarts\u001b[39;00m\u001b[39m.\u001b[39;00m\u001b[39mcore\u001b[39;00m\u001b[39m.\u001b[39;00m\u001b[39mplan\u001b[39;00m \u001b[39mimport\u001b[39;00m Plan\n\u001b[0;32m     33\u001b[0m \u001b[39mfrom\u001b[39;00m \u001b[39msmarts\u001b[39;00m\u001b[39m.\u001b[39;00m\u001b[39mcore\u001b[39;00m\u001b[39m.\u001b[39;00m\u001b[39mroad_map\u001b[39;00m \u001b[39mimport\u001b[39;00m RoadMap, Waypoint\n",
      "File \u001b[1;32me:\\Anaconda\\lib\\site-packages\\smarts\\core\\agent_interface.py:25\u001b[0m\n\u001b[0;32m     22\u001b[0m \u001b[39mfrom\u001b[39;00m \u001b[39menum\u001b[39;00m \u001b[39mimport\u001b[39;00m IntEnum\n\u001b[0;32m     23\u001b[0m \u001b[39mfrom\u001b[39;00m \u001b[39mtyping\u001b[39;00m \u001b[39mimport\u001b[39;00m List, Optional, Union\n\u001b[1;32m---> 25\u001b[0m \u001b[39mfrom\u001b[39;00m \u001b[39msmarts\u001b[39;00m\u001b[39m.\u001b[39;00m\u001b[39mcore\u001b[39;00m\u001b[39m.\u001b[39;00m\u001b[39mcontrollers\u001b[39;00m \u001b[39mimport\u001b[39;00m ActionSpaceType\n\u001b[0;32m     26\u001b[0m \u001b[39mfrom\u001b[39;00m \u001b[39msmarts\u001b[39;00m\u001b[39m.\u001b[39;00m\u001b[39mcore\u001b[39;00m\u001b[39m.\u001b[39;00m\u001b[39mlidar_sensor_params\u001b[39;00m \u001b[39mimport\u001b[39;00m BasicLidar\n\u001b[0;32m     27\u001b[0m \u001b[39mfrom\u001b[39;00m \u001b[39msmarts\u001b[39;00m\u001b[39m.\u001b[39;00m\u001b[39mcore\u001b[39;00m\u001b[39m.\u001b[39;00m\u001b[39mlidar_sensor_params\u001b[39;00m \u001b[39mimport\u001b[39;00m SensorParams \u001b[39mas\u001b[39;00m LidarSensorParams\n",
      "File \u001b[1;32me:\\Anaconda\\lib\\site-packages\\smarts\\core\\controllers\\__init__.py:29\u001b[0m\n\u001b[0;32m     23\u001b[0m \u001b[39mimport\u001b[39;00m \u001b[39mnumpy\u001b[39;00m \u001b[39mas\u001b[39;00m \u001b[39mnp\u001b[39;00m\n\u001b[0;32m     25\u001b[0m \u001b[39mfrom\u001b[39;00m \u001b[39msmarts\u001b[39;00m\u001b[39m.\u001b[39;00m\u001b[39mcore\u001b[39;00m\u001b[39m.\u001b[39;00m\u001b[39mcontrollers\u001b[39;00m\u001b[39m.\u001b[39;00m\u001b[39mactuator_dynamic_controller\u001b[39;00m \u001b[39mimport\u001b[39;00m (\n\u001b[0;32m     26\u001b[0m     ActuatorDynamicController,\n\u001b[0;32m     27\u001b[0m     ActuatorDynamicControllerState,\n\u001b[0;32m     28\u001b[0m )\n\u001b[1;32m---> 29\u001b[0m \u001b[39mfrom\u001b[39;00m \u001b[39msmarts\u001b[39;00m\u001b[39m.\u001b[39;00m\u001b[39mcore\u001b[39;00m\u001b[39m.\u001b[39;00m\u001b[39mcontrollers\u001b[39;00m\u001b[39m.\u001b[39;00m\u001b[39mdirect_controller\u001b[39;00m \u001b[39mimport\u001b[39;00m DirectController\n\u001b[0;32m     30\u001b[0m \u001b[39mfrom\u001b[39;00m \u001b[39msmarts\u001b[39;00m\u001b[39m.\u001b[39;00m\u001b[39mcore\u001b[39;00m\u001b[39m.\u001b[39;00m\u001b[39mcontrollers\u001b[39;00m\u001b[39m.\u001b[39;00m\u001b[39mlane_following_controller\u001b[39;00m \u001b[39mimport\u001b[39;00m (\n\u001b[0;32m     31\u001b[0m     LaneFollowingController,\n\u001b[0;32m     32\u001b[0m     LaneFollowingControllerState,\n\u001b[0;32m     33\u001b[0m )\n\u001b[0;32m     34\u001b[0m \u001b[39mfrom\u001b[39;00m \u001b[39msmarts\u001b[39;00m\u001b[39m.\u001b[39;00m\u001b[39mcore\u001b[39;00m\u001b[39m.\u001b[39;00m\u001b[39mcontrollers\u001b[39;00m\u001b[39m.\u001b[39;00m\u001b[39mmotion_planner_controller\u001b[39;00m \u001b[39mimport\u001b[39;00m (\n\u001b[0;32m     35\u001b[0m     MotionPlannerController,\n\u001b[0;32m     36\u001b[0m     MotionPlannerControllerState,\n\u001b[0;32m     37\u001b[0m )\n",
      "File \u001b[1;32me:\\Anaconda\\lib\\site-packages\\smarts\\core\\controllers\\direct_controller.py:25\u001b[0m\n\u001b[0;32m     21\u001b[0m \u001b[39mfrom\u001b[39;00m \u001b[39mtyping\u001b[39;00m \u001b[39mimport\u001b[39;00m Tuple, Union\n\u001b[0;32m     23\u001b[0m \u001b[39mimport\u001b[39;00m \u001b[39mnumpy\u001b[39;00m \u001b[39mas\u001b[39;00m \u001b[39mnp\u001b[39;00m\n\u001b[1;32m---> 25\u001b[0m \u001b[39mfrom\u001b[39;00m \u001b[39msmarts\u001b[39;00m\u001b[39m.\u001b[39;00m\u001b[39mcore\u001b[39;00m\u001b[39m.\u001b[39;00m\u001b[39mchassis\u001b[39;00m \u001b[39mimport\u001b[39;00m AckermannChassis, BoxChassis\n\u001b[0;32m     26\u001b[0m \u001b[39mfrom\u001b[39;00m \u001b[39msmarts\u001b[39;00m\u001b[39m.\u001b[39;00m\u001b[39mcore\u001b[39;00m\u001b[39m.\u001b[39;00m\u001b[39mcoordinates\u001b[39;00m \u001b[39mimport\u001b[39;00m Pose\n\u001b[0;32m     27\u001b[0m \u001b[39mfrom\u001b[39;00m \u001b[39msmarts\u001b[39;00m\u001b[39m.\u001b[39;00m\u001b[39mcore\u001b[39;00m\u001b[39m.\u001b[39;00m\u001b[39mutils\u001b[39;00m\u001b[39m.\u001b[39;00m\u001b[39mmath\u001b[39;00m \u001b[39mimport\u001b[39;00m fast_quaternion_from_angle, radians_to_vec\n",
      "File \u001b[1;32me:\\Anaconda\\lib\\site-packages\\smarts\\core\\chassis.py:36\u001b[0m\n\u001b[0;32m     34\u001b[0m \u001b[39mfrom\u001b[39;00m \u001b[39msmarts\u001b[39;00m\u001b[39m.\u001b[39;00m\u001b[39mcore\u001b[39;00m\u001b[39m.\u001b[39;00m\u001b[39mcoordinates\u001b[39;00m \u001b[39mimport\u001b[39;00m Dimensions, Heading, Pose\n\u001b[0;32m     35\u001b[0m \u001b[39mfrom\u001b[39;00m \u001b[39msmarts\u001b[39;00m\u001b[39m.\u001b[39;00m\u001b[39mcore\u001b[39;00m\u001b[39m.\u001b[39;00m\u001b[39mtire_models\u001b[39;00m \u001b[39mimport\u001b[39;00m TireForces\n\u001b[1;32m---> 36\u001b[0m \u001b[39mfrom\u001b[39;00m \u001b[39msmarts\u001b[39;00m\u001b[39m.\u001b[39;00m\u001b[39mcore\u001b[39;00m\u001b[39m.\u001b[39;00m\u001b[39mutils\u001b[39;00m \u001b[39mimport\u001b[39;00m pybullet\n\u001b[0;32m     37\u001b[0m \u001b[39mfrom\u001b[39;00m \u001b[39msmarts\u001b[39;00m\u001b[39m.\u001b[39;00m\u001b[39mcore\u001b[39;00m\u001b[39m.\u001b[39;00m\u001b[39mutils\u001b[39;00m\u001b[39m.\u001b[39;00m\u001b[39mbullet\u001b[39;00m \u001b[39mimport\u001b[39;00m (\n\u001b[0;32m     38\u001b[0m     BulletBoxShape,\n\u001b[0;32m     39\u001b[0m     BulletPositionConstraint,\n\u001b[1;32m   (...)\u001b[0m\n\u001b[0;32m     42\u001b[0m     JointState,\n\u001b[0;32m     43\u001b[0m )\n\u001b[0;32m     44\u001b[0m \u001b[39mfrom\u001b[39;00m \u001b[39msmarts\u001b[39;00m\u001b[39m.\u001b[39;00m\u001b[39mcore\u001b[39;00m\u001b[39m.\u001b[39;00m\u001b[39mutils\u001b[39;00m\u001b[39m.\u001b[39;00m\u001b[39mmath\u001b[39;00m \u001b[39mimport\u001b[39;00m (\n\u001b[0;32m     45\u001b[0m     min_angles_difference_signed,\n\u001b[0;32m     46\u001b[0m     radians_to_vec,\n\u001b[0;32m     47\u001b[0m     vec_to_radians,\n\u001b[0;32m     48\u001b[0m     yaw_from_quaternion,\n\u001b[0;32m     49\u001b[0m )\n",
      "File \u001b[1;32me:\\Anaconda\\lib\\site-packages\\smarts\\core\\utils\\pybullet.py:21\u001b[0m\n\u001b[0;32m      1\u001b[0m \u001b[39m# Copyright (C) 2020. Huawei Technologies Co., Ltd. All rights reserved.\u001b[39;00m\n\u001b[0;32m      2\u001b[0m \u001b[39m#\u001b[39;00m\n\u001b[0;32m      3\u001b[0m \u001b[39m# Permission is hereby granted, free of charge, to any person obtaining a copy\u001b[39;00m\n\u001b[1;32m   (...)\u001b[0m\n\u001b[0;32m     18\u001b[0m \u001b[39m# OUT OF OR IN CONNECTION WITH THE SOFTWARE OR THE USE OR OTHER DEALINGS IN\u001b[39;00m\n\u001b[0;32m     19\u001b[0m \u001b[39m# THE SOFTWARE.\u001b[39;00m\n\u001b[1;32m---> 21\u001b[0m \u001b[39mfrom\u001b[39;00m \u001b[39msmarts\u001b[39;00m\u001b[39m.\u001b[39;00m\u001b[39mcore\u001b[39;00m\u001b[39m.\u001b[39;00m\u001b[39mutils\u001b[39;00m\u001b[39m.\u001b[39;00m\u001b[39mlogging\u001b[39;00m \u001b[39mimport\u001b[39;00m suppress_output\n\u001b[0;32m     23\u001b[0m \u001b[39m# XXX: Importing pybullet logs an annoying build version tag. There's no \"friendly\"\u001b[39;00m\n\u001b[0;32m     24\u001b[0m \u001b[39m#      way to fix this since they simply use print(...). Disabling logging at the\u001b[39;00m\n\u001b[0;32m     25\u001b[0m \u001b[39m#      time of import is our hack.\u001b[39;00m\n\u001b[0;32m     26\u001b[0m \u001b[39mwith\u001b[39;00m suppress_output():\n",
      "File \u001b[1;32me:\\Anaconda\\lib\\site-packages\\smarts\\core\\utils\\logging.py:60\u001b[0m\n\u001b[0;32m     57\u001b[0m     \u001b[39mreturn\u001b[39;00m \u001b[39mFalse\u001b[39;00m\n\u001b[0;32m     59\u001b[0m \u001b[39mprint\u001b[39m(\u001b[39m\"\u001b[39m\u001b[39musing ctypes\u001b[39m\u001b[39m\"\u001b[39m)\n\u001b[1;32m---> 60\u001b[0m libc \u001b[39m=\u001b[39m ctypes\u001b[39m.\u001b[39;49mCDLL(\u001b[39mNone\u001b[39;49;00m)\n\u001b[0;32m     61\u001b[0m \u001b[39mtry\u001b[39;00m:\n\u001b[0;32m     62\u001b[0m     c_stderr \u001b[39m=\u001b[39m ctypes\u001b[39m.\u001b[39mc_void_p\u001b[39m.\u001b[39min_dll(libc, \u001b[39m\"\u001b[39m\u001b[39mstderr\u001b[39m\u001b[39m\"\u001b[39m)\n",
      "File \u001b[1;32me:\\Anaconda\\lib\\ctypes\\__init__.py:364\u001b[0m, in \u001b[0;36mCDLL.__init__\u001b[1;34m(self, name, mode, handle, use_errno, use_last_error, winmode)\u001b[0m\n\u001b[0;32m    362\u001b[0m \u001b[39mimport\u001b[39;00m \u001b[39mnt\u001b[39;00m\n\u001b[0;32m    363\u001b[0m mode \u001b[39m=\u001b[39m nt\u001b[39m.\u001b[39m_LOAD_LIBRARY_SEARCH_DEFAULT_DIRS\n\u001b[1;32m--> 364\u001b[0m \u001b[39mif\u001b[39;00m \u001b[39m'\u001b[39;49m\u001b[39m/\u001b[39;49m\u001b[39m'\u001b[39;49m \u001b[39min\u001b[39;49;00m name \u001b[39mor\u001b[39;00m \u001b[39m'\u001b[39m\u001b[39m\\\\\u001b[39;00m\u001b[39m'\u001b[39m \u001b[39min\u001b[39;00m name:\n\u001b[0;32m    365\u001b[0m     \u001b[39mself\u001b[39m\u001b[39m.\u001b[39m_name \u001b[39m=\u001b[39m nt\u001b[39m.\u001b[39m_getfullpathname(\u001b[39mself\u001b[39m\u001b[39m.\u001b[39m_name)\n\u001b[0;32m    366\u001b[0m     mode \u001b[39m|\u001b[39m\u001b[39m=\u001b[39m nt\u001b[39m.\u001b[39m_LOAD_LIBRARY_SEARCH_DLL_LOAD_DIR\n",
      "\u001b[1;31mTypeError\u001b[0m: argument of type 'NoneType' is not iterable"
     ]
    }
   ],
   "source": [
    "\n",
    "filename = \"Agent-history-vehicle-1.pkl\"\n",
    "with open(filename, 'rb') as f:\n",
    "    contents = pickle.load(f)\n",
    "\n",
    "print(contents)\n"
   ]
  }
 ],
 "metadata": {
  "kernelspec": {
   "display_name": "base",
   "language": "python",
   "name": "python3"
  },
  "language_info": {
   "codemirror_mode": {
    "name": "ipython",
    "version": 3
   },
   "file_extension": ".py",
   "mimetype": "text/x-python",
   "name": "python",
   "nbconvert_exporter": "python",
   "pygments_lexer": "ipython3",
   "version": "3.9.16"
  },
  "orig_nbformat": 4
 },
 "nbformat": 4,
 "nbformat_minor": 2
}
